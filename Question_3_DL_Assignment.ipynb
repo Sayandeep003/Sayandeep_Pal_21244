{
  "nbformat": 4,
  "nbformat_minor": 0,
  "metadata": {
    "colab": {
      "provenance": []
    },
    "kernelspec": {
      "name": "python3",
      "display_name": "Python 3"
    },
    "language_info": {
      "name": "python"
    }
  },
  "cells": [
    {
      "cell_type": "code",
      "execution_count": 1,
      "metadata": {
        "colab": {
          "base_uri": "https://localhost:8080/"
        },
        "id": "SWLjD_SWyY3f",
        "outputId": "e1444e6d-c5ef-4511-8a79-9aa64225887a"
      },
      "outputs": [
        {
          "output_type": "stream",
          "name": "stdout",
          "text": [
            "Downloading data from https://storage.googleapis.com/tensorflow/tf-keras-datasets/mnist.npz\n",
            "11490434/11490434 [==============================] - 0s 0us/step\n",
            "Epoch 1/10\n",
            "375/375 [==============================] - 7s 14ms/step - loss: 0.2498 - accuracy: 0.9284 - val_loss: 0.1280 - val_accuracy: 0.9607\n",
            "Epoch 2/10\n",
            "375/375 [==============================] - 6s 15ms/step - loss: 0.0954 - accuracy: 0.9706 - val_loss: 0.0927 - val_accuracy: 0.9732\n",
            "Epoch 3/10\n",
            "375/375 [==============================] - 5s 14ms/step - loss: 0.0585 - accuracy: 0.9821 - val_loss: 0.0859 - val_accuracy: 0.9751\n",
            "Epoch 4/10\n",
            "375/375 [==============================] - 6s 16ms/step - loss: 0.0411 - accuracy: 0.9869 - val_loss: 0.0842 - val_accuracy: 0.9754\n",
            "Epoch 5/10\n",
            "375/375 [==============================] - 5s 14ms/step - loss: 0.0261 - accuracy: 0.9919 - val_loss: 0.0990 - val_accuracy: 0.9730\n",
            "Epoch 6/10\n",
            "375/375 [==============================] - 6s 15ms/step - loss: 0.0242 - accuracy: 0.9921 - val_loss: 0.0840 - val_accuracy: 0.9787\n",
            "Epoch 7/10\n",
            "375/375 [==============================] - 5s 13ms/step - loss: 0.0180 - accuracy: 0.9942 - val_loss: 0.0877 - val_accuracy: 0.9767\n",
            "Epoch 8/10\n",
            "375/375 [==============================] - 5s 13ms/step - loss: 0.0158 - accuracy: 0.9949 - val_loss: 0.1040 - val_accuracy: 0.9738\n",
            "Epoch 9/10\n",
            "375/375 [==============================] - 6s 15ms/step - loss: 0.0166 - accuracy: 0.9945 - val_loss: 0.1135 - val_accuracy: 0.9732\n",
            "Epoch 10/10\n",
            "375/375 [==============================] - 5s 13ms/step - loss: 0.0095 - accuracy: 0.9971 - val_loss: 0.0918 - val_accuracy: 0.9800\n",
            "313/313 [==============================] - 1s 3ms/step - loss: 0.0862 - accuracy: 0.9801\n",
            "Test accuracy: 0.9800999760627747\n"
          ]
        }
      ],
      "source": [
        "import tensorflow as tf\n",
        "from tensorflow.keras import layers, models\n",
        "from tensorflow.keras.utils import to_categorical\n",
        "from tensorflow.keras.datasets import mnist\n",
        "from tensorflow.keras.preprocessing.image import ImageDataGenerator\n",
        "\n",
        "(train_images, train_labels), (test_images, test_labels) = mnist.load_data()\n",
        "train_images = train_images.reshape((60000, 28 * 28)).astype('float32') / 255\n",
        "test_images = test_images.reshape((10000, 28 * 28)).astype('float32') / 255\n",
        "train_labels = to_categorical(train_labels)\n",
        "test_labels = to_categorical(test_labels)\n",
        "\n",
        "model = models.Sequential([\n",
        "    layers.Dense(512, activation='relu', input_shape=(28 * 28,)),\n",
        "    layers.Dense(256, activation='relu'),\n",
        "    layers.Dense(10, activation='softmax')\n",
        "])\n",
        "\n",
        "model.compile(optimizer='adam',\n",
        "              loss='categorical_crossentropy',\n",
        "              metrics=['accuracy'])\n",
        "\n",
        "model.fit(train_images, train_labels, epochs=10, batch_size=128, validation_split=0.2)\n",
        "\n",
        "test_loss, test_acc = model.evaluate(test_images, test_labels)\n",
        "print(f'Test accuracy: {test_acc}')\n"
      ]
    }
  ]
}